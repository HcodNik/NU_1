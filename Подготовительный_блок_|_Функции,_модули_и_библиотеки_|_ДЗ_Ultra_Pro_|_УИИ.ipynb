{
  "nbformat": 4,
  "nbformat_minor": 0,
  "metadata": {
    "colab": {
      "provenance": [],
      "include_colab_link": true
    },
    "kernelspec": {
      "name": "python3",
      "display_name": "Python 3"
    },
    "language_info": {
      "name": "python"
    }
  },
  "cells": [
    {
      "cell_type": "markdown",
      "metadata": {
        "id": "view-in-github",
        "colab_type": "text"
      },
      "source": [
        "<a href=\"https://colab.research.google.com/github/HcodNik/NU_1/blob/main/%D0%9F%D0%BE%D0%B4%D0%B3%D0%BE%D1%82%D0%BE%D0%B2%D0%B8%D1%82%D0%B5%D0%BB%D1%8C%D0%BD%D1%8B%D0%B9_%D0%B1%D0%BB%D0%BE%D0%BA_%7C_%D0%A4%D1%83%D0%BD%D0%BA%D1%86%D0%B8%D0%B8%2C_%D0%BC%D0%BE%D0%B4%D1%83%D0%BB%D0%B8_%D0%B8_%D0%B1%D0%B8%D0%B1%D0%BB%D0%B8%D0%BE%D1%82%D0%B5%D0%BA%D0%B8_%7C_%D0%94%D0%97_Ultra_Pro_%7C_%D0%A3%D0%98%D0%98.ipynb\" target=\"_parent\"><img src=\"https://colab.research.google.com/assets/colab-badge.svg\" alt=\"Open In Colab\"/></a>"
      ]
    },
    {
      "cell_type": "markdown",
      "metadata": {
        "id": "Sm1s8gu1hjSc"
      },
      "source": [
        "Напишите функцию, которая принимает на вход текст (строку), очищает его от знаков препинания, скобок, оставляя только символы алфавита, и возвращает в виде списка слов типа list.\n",
        "\n",
        "Используйте функцию `help` для уточнения работы методов `str.replace` и `str.split`. После чего используйте их для решения задачи. На аргумент `self` не обращайте внимания.\n",
        "\n",
        "*Подсказка: для очистки нескольких знаков можно собрать их в список/строку, и сделать replace в цикле.*\n",
        "\n",
        "\n"
      ]
    },
    {
      "cell_type": "code",
      "metadata": {
        "id": "Cs4VBgGqKWbs"
      },
      "source": [
        "# Сводка по str.replace\n",
        "help(str.replace)"
      ],
      "execution_count": null,
      "outputs": []
    },
    {
      "cell_type": "code",
      "metadata": {
        "id": "az0fnk52GmkU"
      },
      "source": [
        "# Текст для обработки\n",
        "text_pro = '«Компьютеры становятся все умнее. Ученые утверждают, что скоро они смогут разговаривать с нами. (Говоря «они», я имею в виду компьютеры; я сомневаюсь, что ученые когда-либо смогут разговаривать с нами.)»'"
      ],
      "execution_count": null,
      "outputs": []
    },
    {
      "cell_type": "code",
      "metadata": {
        "id": "QTwmkbFPMAMv",
        "colab": {
          "base_uri": "https://localhost:8080/"
        },
        "outputId": "34d03e0a-b4b9-4fec-bc45-d2e91634f1ee"
      },
      "source": [
        "# ваше решение\n",
        "\n",
        "def del_sym_str(text):\n",
        "  char_remov = ['«', '»', ',', '.', '(', ')', ';']\n",
        "  for char in char_remov:\n",
        "    text = text.replace(char, '')\n",
        "  return text.split(' ')\n",
        "\n",
        "\n",
        "print(del_sym_str(text_pro))"
      ],
      "execution_count": 21,
      "outputs": [
        {
          "output_type": "stream",
          "name": "stdout",
          "text": [
            "['Компьютеры', 'становятся', 'все', 'умнее', 'Ученые', 'утверждают', 'что', 'скоро', 'они', 'смогут', 'разговаривать', 'с', 'нами', 'Говоря', 'они', 'я', 'имею', 'в', 'виду', 'компьютеры', 'я', 'сомневаюсь', 'что', 'ученые', 'когда-либо', 'смогут', 'разговаривать', 'с', 'нами']\n"
          ]
        }
      ]
    }
  ]
}